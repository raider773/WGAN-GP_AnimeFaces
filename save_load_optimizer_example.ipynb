{
 "cells": [
  {
   "cell_type": "code",
   "execution_count": null,
   "id": "554c7282-8ac2-4138-93eb-e5e80442f5dc",
   "metadata": {},
   "outputs": [],
   "source": [
    "import tensorflow as tf\n",
    "import numpy as np\n",
    "\n",
    "model = # instantiate model (functional or subclass of tf.keras.Model)\n",
    "\n",
    "np.save(path, optimizer.get_weights())\n",
    "\n",
    "# Get saved weights\n",
    "opt_weights = np.load('/path/to/saved/opt/weights.npy', allow_pickle=True)\n",
    "\n",
    "grad_vars = model.trainable_weights\n",
    "# This need not be model.trainable_weights; it must be a correctly-ordered list of \n",
    "# grad_vars corresponding to how you usually call the optimizer.\n",
    "\n",
    "optimizer = tf.keras.optimizers.Adam(lrate)\n",
    "\n",
    "zero_grads = [tf.zeros_like(w) for w in grad_vars]\n",
    "\n",
    "# Apply gradients which don't do nothing with Adam\n",
    "optimizer.apply_gradients(zip(zero_grads, grad_vars))\n",
    "\n",
    "# Set the weights of the optimizer\n",
    "optimizer.set_weights(opt_weights)\n",
    "\n",
    "# NOW set the trainable weights of the model\n",
    "model_weights = np.load('/path/to/saved/model/weights.npy', allow_pickle=True)\n",
    "model.set_weights(model_weights)"
   ]
  }
 ],
 "metadata": {
  "kernelspec": {
   "display_name": "Python 3 (ipykernel)",
   "language": "python",
   "name": "python3"
  },
  "language_info": {
   "codemirror_mode": {
    "name": "ipython",
    "version": 3
   },
   "file_extension": ".py",
   "mimetype": "text/x-python",
   "name": "python",
   "nbconvert_exporter": "python",
   "pygments_lexer": "ipython3",
   "version": "3.7.0"
  }
 },
 "nbformat": 4,
 "nbformat_minor": 5
}
